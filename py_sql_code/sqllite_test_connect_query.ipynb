import sqlite3
import sqlalchemy

def readSqliteTable():
    try:
        sqliteConnection = sqlite3.connect ('C:\\Users\\Andrew\\Desktop\\final_project\\steam_games.db')
        cursor = sqliteConnection.cursor()
        print("Connected to SQLite")

        sqlite_select_query = """SELECT * FROM games_db WHERE genre = Action;"""
        cursor.execute(sqlite_select_query)
        records = cursor.fetchall()
        print("Total rows are:  ", len(records))
        print("Printing each row")
        for row in records:
            print("appId: ", row[0])
            print("game_name: ", row[1]) 
            print("game_score: ", row[2])
            print("genre: ", row[3])
            print("tag: ", row[4])
            print("\n")

        cursor.close()

    except sqlite3.Error as error:
        print("Failed to read data from sqlite table", error)
    finally:
        if (sqliteConnection):
            sqliteConnection.close()
            print("The SQLite connection is closed")

readSqliteTable()